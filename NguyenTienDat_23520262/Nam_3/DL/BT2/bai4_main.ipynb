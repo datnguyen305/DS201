{
 "cells": [
  {
   "cell_type": "code",
   "execution_count": 1,
   "id": "99dac820",
   "metadata": {},
   "outputs": [],
   "source": [
    "import torch\n",
    "from torch.utils.data import Dataset\n",
    "import os\n",
    "import cv2 \n",
    "\n",
    "def collate_fn(samples: list[dict]) -> dict:\n",
    "    #images = [sample['image'].permute(1, 2, -1).unsqueeze(0) for sample in samples] \n",
    "    images = [sample['image'] for sample in samples]\n",
    "    labels = [sample['label'] for sample in samples] \n",
    "\n",
    "    images = torch.stack(images, dim=0)\n",
    "    labels = torch.tensor(labels)\n",
    "    \n",
    "    return {\n",
    "        'image': images,\n",
    "        'label': labels\n",
    "    }\n",
    "\n",
    "class VinaFood(Dataset):\n",
    "    #def __init__(self, path: str):\n",
    "    def __init__(self, path: str, image_size: tuple[int]):\n",
    "        super().__init__()\n",
    "    \n",
    "        self.image_size = image_size\n",
    "        self.label2idx = {}\n",
    "        self.idx2label = {}\n",
    "        self.data: list[dict] = self.load_data(path)\n",
    "        \n",
    "    def load_data(self, path):\n",
    "        data = []\n",
    "        label_id = 0\n",
    "        print(f\"Loading data from: {path}\")\n",
    "        for folder in os.listdir(path):\n",
    "            label = folder\n",
    "            if label not in self.label2idx:\n",
    "                self.label2idx[label] = label_id\n",
    "                label_id += 1\n",
    "            folder_path = os.path.join(path, folder)\n",
    "            print(f\"Processing folder: {folder} (label_id: {self.label2idx[label]})\")\n",
    "            \n",
    "            for image_file in os.listdir(folder_path):\n",
    "                image_path = os.path.join(folder_path, image_file)\n",
    "                image = cv2.imread(image_path)\n",
    "                data.append({\n",
    "                    'image': image,\n",
    "                    'label': label\n",
    "                })\n",
    "\n",
    "        self.idx2label = {id: label for label, id in self.label2idx.items()}\n",
    "        return data\n",
    "    \n",
    "    def __len__(self):\n",
    "        return len(self.data)\n",
    "    \n",
    "    def __getitem__(self, idx: int) -> dict:\n",
    "        item = self.data[idx]\n",
    "        \n",
    "        image = item['image']\n",
    "        label = item['label']\n",
    "        \n",
    "        # image = cv2.resize(image, (224, 224))\n",
    "        # label_id = self.label2idx[label]\n",
    "        \n",
    "        image = cv2.resize(image, self.image_size)\n",
    "        # Convert to RGB if needed (OpenCV loads in BGR)\n",
    "        image = cv2.cvtColor(image, cv2.COLOR_BGR2RGB)\n",
    "        # Convert to tensor once\n",
    "        image = torch.tensor(image, dtype=torch.float32).permute(2,0,1) / 255.0\n",
    "        return {\n",
    "            'image': image,\n",
    "            'label': self.label2idx[label]\n",
    "        }\n",
    "    \n",
    "    \n",
    "    "
   ]
  },
  {
   "cell_type": "code",
   "execution_count": null,
   "id": "be1bc4a8",
   "metadata": {},
   "outputs": [
    {
     "name": "stderr",
     "output_type": "stream",
     "text": [
      "c:\\Users\\NewDat\\AppData\\Local\\Programs\\Python\\Python311\\Lib\\site-packages\\tqdm\\auto.py:21: TqdmWarning: IProgress not found. Please update jupyter and ipywidgets. See https://ipywidgets.readthedocs.io/en/stable/user_install.html\n",
      "  from .autonotebook import tqdm as notebook_tqdm\n"
     ]
    },
    {
     "ename": "",
     "evalue": "",
     "output_type": "error",
     "traceback": [
      "\u001b[1;31mThe Kernel crashed while executing code in the current cell or a previous cell. \n",
      "\u001b[1;31mPlease review the code in the cell(s) to identify a possible cause of the failure. \n",
      "\u001b[1;31mClick <a href='https://aka.ms/vscodeJupyterKernelCrash'>here</a> for more info. \n",
      "\u001b[1;31mView Jupyter <a href='command:jupyter.viewOutput'>log</a> for further details."
     ]
    }
   ],
   "source": [
    "import torch\n",
    "from torch import nn\n",
    "from transformers import ResNetForImageClassification\n",
    "import torch.nn.functional as F\n",
    "\n",
    "class PretrainedResnet(nn.Module):\n",
    "    def __init__(self, num_classes=21, freeze_backbone=True):\n",
    "        super().__init__()\n",
    "\n",
    "        # Load pretrained ResNet\n",
    "        basemodel = ResNetForImageClassification.from_pretrained(\"microsoft/resnet-50\")\n",
    "        self.resnet = basemodel.resnet\n",
    "\n",
    "        # Freeze backbone if specified\n",
    "        if freeze_backbone:\n",
    "            for param in self.resnet.parameters():\n",
    "                param.requires_grad = False\n",
    "\n",
    "        # New classifier head\n",
    "        self.classifier = nn.Sequential(\n",
    "            nn.Linear(2048, 512),\n",
    "            nn.ReLU(),\n",
    "            nn.Dropout(0.2),\n",
    "            nn.Linear(512, num_classes)\n",
    "        )\n",
    "        \n",
    "        # Initialize the new layers\n",
    "        self._init_classifier()\n",
    "\n",
    "    def _init_classifier(self):\n",
    "        for module in self.classifier.modules():\n",
    "            if isinstance(module, nn.Linear):\n",
    "                nn.init.xavier_uniform_(module.weight)\n",
    "                if module.bias is not None:\n",
    "                    nn.init.constant_(module.bias, 0)\n",
    "\n",
    "    def forward(self, images: torch.Tensor):\n",
    "        features = self.resnet(images).pooler_output\n",
    "        features = features.squeeze(-1).squeeze(-1)\n",
    "        logits = self.classifier(features)\n",
    "        return logits\n",
    "    \n",
    "    def unfreeze_layers(self, num_layers=3):\n",
    "        \"\"\"Unfreeze the last n layers of the ResNet backbone\"\"\"\n",
    "        for param in self.resnet.parameters():\n",
    "            param.requires_grad = False\n",
    "            \n",
    "        layers_to_unfreeze = list(self.resnet.named_parameters())[-num_layers:]\n",
    "        for name, param in layers_to_unfreeze:\n",
    "            param.requires_grad = True\n",
    "            print(f\"Unfroze layer: {name}\")\n"
   ]
  },
  {
   "cell_type": "code",
   "execution_count": null,
   "id": "c6b30da1",
   "metadata": {},
   "outputs": [
    {
     "name": "stdout",
     "output_type": "stream",
     "text": [
      "Loading data from: D:\\NguyenTienDat_23520262\\Nam_3\\DL\\BT2\\VinaFood21\\train\n",
      "Processing folder: banh-can (label_id: 0)\n",
      "Processing folder: banh-hoi (label_id: 1)\n",
      "Processing folder: banh-mi-chao (label_id: 2)\n",
      "Processing folder: banh-tet (label_id: 3)\n",
      "Processing folder: banh-trang-tron (label_id: 4)\n",
      "Processing folder: banh-u (label_id: 5)\n",
      "Processing folder: banh-uot (label_id: 6)\n",
      "Processing folder: bap-nuong (label_id: 7)\n",
      "Processing folder: bo-kho (label_id: 8)\n",
      "Processing folder: bo-la-lot (label_id: 9)\n",
      "Processing folder: bot-chien (label_id: 10)\n",
      "Processing folder: ca-ri (label_id: 11)\n",
      "Processing folder: canh-kho-qua (label_id: 12)\n",
      "Processing folder: canh-khoai-mo (label_id: 13)\n",
      "Processing folder: ga-nuong (label_id: 14)\n",
      "Processing folder: goi-ga (label_id: 15)\n",
      "Processing folder: ha-cao (label_id: 16)\n",
      "Processing folder: hoanh-thanh-nuoc (label_id: 17)\n",
      "Processing folder: pha-lau (label_id: 18)\n",
      "Processing folder: tau-hu (label_id: 19)\n",
      "Processing folder: thit-kho-trung (label_id: 20)\n",
      "\n",
      "Epoch 1/10\n"
     ]
    },
    {
     "name": "stderr",
     "output_type": "stream",
     "text": [
      "Training: 100%|██████████| 314/314 [09:55<00:00,  1.90s/it, loss=2.5569]\n"
     ]
    },
    {
     "name": "stdout",
     "output_type": "stream",
     "text": [
      "Average training loss: 2.8583\n",
      "Unique predictions: [ 0  1  2  3  4  6  7  8  9 12 13 14 16 17 18 20]\n",
      "Unique true labels: [ 0  1  2  3  4  5  6  7  8  9 10 11 12 13 14 15 16 17 18 19 20]\n",
      "Validation metrics:\n",
      "recall: 0.2117\n",
      "precision: 0.4882\n",
      "f1: 0.1751\n",
      "\n",
      "Epoch 2/10\n"
     ]
    },
    {
     "name": "stderr",
     "output_type": "stream",
     "text": [
      "Training: 100%|██████████| 314/314 [08:41<00:00,  1.66s/it, loss=2.6678]\n"
     ]
    },
    {
     "name": "stdout",
     "output_type": "stream",
     "text": [
      "Average training loss: 2.4802\n",
      "Unique predictions: [ 0  1  2  3  4  5  6  7  8  9 10 12 13 14 15 16 17 18 19 20]\n",
      "Unique true labels: [ 0  1  2  3  4  5  6  7  8  9 10 11 12 13 14 15 16 17 18 19 20]\n",
      "Validation metrics:\n",
      "recall: 0.3701\n",
      "precision: 0.6379\n",
      "f1: 0.3632\n",
      "\n",
      "Epoch 3/10\n"
     ]
    },
    {
     "name": "stderr",
     "output_type": "stream",
     "text": [
      "Training: 100%|██████████| 314/314 [08:06<00:00,  1.55s/it, loss=2.0208]\n"
     ]
    },
    {
     "name": "stdout",
     "output_type": "stream",
     "text": [
      "Average training loss: 2.1414\n",
      "Unique predictions: [ 0  1  2  3  4  5  6  7  8  9 10 12 13 14 15 16 17 18 19 20]\n",
      "Unique true labels: [ 0  1  2  3  4  5  6  7  8  9 10 11 12 13 14 15 16 17 18 19 20]\n",
      "Validation metrics:\n",
      "recall: 0.4922\n",
      "precision: 0.6152\n",
      "f1: 0.5119\n",
      "\n",
      "Epoch 4/10\n"
     ]
    },
    {
     "name": "stderr",
     "output_type": "stream",
     "text": [
      "Training: 100%|██████████| 314/314 [08:32<00:00,  1.63s/it, loss=1.6888]\n"
     ]
    },
    {
     "name": "stdout",
     "output_type": "stream",
     "text": [
      "Average training loss: 1.8973\n",
      "Unique predictions: [ 0  1  2  3  4  5  6  7  8  9 10 11 12 13 14 15 16 17 18 19 20]\n",
      "Unique true labels: [ 0  1  2  3  4  5  6  7  8  9 10 11 12 13 14 15 16 17 18 19 20]\n",
      "Validation metrics:\n",
      "recall: 0.5583\n",
      "precision: 0.6748\n",
      "f1: 0.5721\n",
      "\n",
      "Epoch 5/10\n"
     ]
    },
    {
     "name": "stderr",
     "output_type": "stream",
     "text": [
      "Training: 100%|██████████| 314/314 [32:35<00:00,  6.23s/it, loss=1.5417]    \n"
     ]
    },
    {
     "name": "stdout",
     "output_type": "stream",
     "text": [
      "Average training loss: 1.7173\n",
      "Unique predictions: [ 0  1  2  3  4  5  6  7  8  9 10 12 13 14 15 16 17 18 19 20]\n",
      "Unique true labels: [ 0  1  2  3  4  5  6  7  8  9 10 11 12 13 14 15 16 17 18 19 20]\n",
      "Validation metrics:\n",
      "recall: 0.5828\n",
      "precision: 0.6470\n",
      "f1: 0.5962\n",
      "\n",
      "Epoch 6/10\n"
     ]
    },
    {
     "name": "stderr",
     "output_type": "stream",
     "text": [
      "Training: 100%|██████████| 314/314 [10:14<00:00,  1.96s/it, loss=1.6491]  \n"
     ]
    },
    {
     "name": "stdout",
     "output_type": "stream",
     "text": [
      "Average training loss: 1.5864\n",
      "Unique predictions: [ 0  1  2  3  4  5  6  7  8  9 10 11 12 13 14 15 16 17 18 19 20]\n",
      "Unique true labels: [ 0  1  2  3  4  5  6  7  8  9 10 11 12 13 14 15 16 17 18 19 20]\n",
      "Validation metrics:\n",
      "recall: 0.6226\n",
      "precision: 0.6929\n",
      "f1: 0.6322\n",
      "\n",
      "Unfreezing last few layers...\n",
      "Unfroze layer: encoder.stages.3.layers.1.layer.2.normalization.bias\n",
      "Unfroze layer: encoder.stages.3.layers.2.layer.0.convolution.weight\n",
      "Unfroze layer: encoder.stages.3.layers.2.layer.0.normalization.weight\n",
      "Unfroze layer: encoder.stages.3.layers.2.layer.0.normalization.bias\n",
      "Unfroze layer: encoder.stages.3.layers.2.layer.1.convolution.weight\n",
      "Unfroze layer: encoder.stages.3.layers.2.layer.1.normalization.weight\n",
      "Unfroze layer: encoder.stages.3.layers.2.layer.1.normalization.bias\n",
      "Unfroze layer: encoder.stages.3.layers.2.layer.2.convolution.weight\n",
      "Unfroze layer: encoder.stages.3.layers.2.layer.2.normalization.weight\n",
      "Unfroze layer: encoder.stages.3.layers.2.layer.2.normalization.bias\n",
      "\n",
      "Epoch 7/10\n"
     ]
    },
    {
     "name": "stderr",
     "output_type": "stream",
     "text": [
      "Training: 100%|██████████| 314/314 [2:05:45<00:00, 24.03s/it, loss=1.1781]    \n"
     ]
    },
    {
     "name": "stdout",
     "output_type": "stream",
     "text": [
      "Average training loss: 1.4508\n",
      "Unique predictions: [ 0  1  2  3  4  5  6  7  8  9 10 11 12 13 14 15 16 17 18 19 20]\n",
      "Unique true labels: [ 0  1  2  3  4  5  6  7  8  9 10 11 12 13 14 15 16 17 18 19 20]\n",
      "Validation metrics:\n",
      "recall: 0.6687\n",
      "precision: 0.7069\n",
      "f1: 0.6712\n",
      "\n",
      "Epoch 8/10\n"
     ]
    },
    {
     "name": "stderr",
     "output_type": "stream",
     "text": [
      "Training: 100%|██████████| 314/314 [10:56<00:00,  2.09s/it, loss=1.4579]\n"
     ]
    },
    {
     "name": "stdout",
     "output_type": "stream",
     "text": [
      "Average training loss: 1.2909\n",
      "Unique predictions: [ 0  1  2  3  4  5  6  7  8  9 10 11 12 13 14 15 16 17 18 19 20]\n",
      "Unique true labels: [ 0  1  2  3  4  5  6  7  8  9 10 11 12 13 14 15 16 17 18 19 20]\n",
      "Validation metrics:\n",
      "recall: 0.6866\n",
      "precision: 0.7292\n",
      "f1: 0.6916\n",
      "\n",
      "Epoch 9/10\n"
     ]
    },
    {
     "name": "stderr",
     "output_type": "stream",
     "text": [
      "Training: 100%|██████████| 314/314 [10:33<00:00,  2.02s/it, loss=0.9839]\n"
     ]
    },
    {
     "name": "stdout",
     "output_type": "stream",
     "text": [
      "Average training loss: 1.1909\n",
      "Unique predictions: [ 0  1  2  3  4  5  6  7  8  9 10 11 12 13 14 15 16 17 18 19 20]\n",
      "Unique true labels: [ 0  1  2  3  4  5  6  7  8  9 10 11 12 13 14 15 16 17 18 19 20]\n",
      "Validation metrics:\n",
      "recall: 0.7162\n",
      "precision: 0.7506\n",
      "f1: 0.7210\n",
      "\n",
      "Epoch 10/10\n"
     ]
    },
    {
     "name": "stderr",
     "output_type": "stream",
     "text": [
      "Training: 100%|██████████| 314/314 [12:05<00:00,  2.31s/it, loss=1.1298]\n"
     ]
    },
    {
     "name": "stdout",
     "output_type": "stream",
     "text": [
      "Average training loss: 1.1061\n"
     ]
    }
   ],
   "source": [
    "from torch.utils.data import DataLoader\n",
    "from torch import nn \n",
    "import torch\n",
    "import numpy as np \n",
    "from sklearn.metrics import precision_score, recall_score, f1_score\n",
    "from vinafood_dataset import VinaFood, collate_fn\n",
    "from pretrained_resnet import PretrainedResnet\n",
    "from tqdm import tqdm\n",
    "\n",
    "# Training configuration\n",
    "BATCH_SIZE = 32\n",
    "LEARNING_RATE = 5e-5  \n",
    "EPOCHS = 10\n",
    "device = \"cuda\" if torch.cuda.is_available() else \"cpu\"\n",
    "image_size = (224, 224)\n",
    "\n",
    "# Load datasets\n",
    "train_dataset = VinaFood(\n",
    "    path=r\"D:\\NguyenTienDat_23520262\\Nam_3\\DL\\BT2\\VinaFood21\\train\",\n",
    "    image_size=image_size\n",
    ")\n",
    "\n",
    "# val_dataset = VinaFood(\n",
    "#     path=r\"D:\\NguyenTienDat_23520262\\Nam_3\\DL\\BT2\\VinaFood21\\test\",\n",
    "#     image_size=image_size,\n",
    "#     label2idx=train_dataset.label2idx  # Use same label mapping\n",
    "# )\n",
    "\n",
    "# Create data loaders\n",
    "train_loader = DataLoader(\n",
    "    dataset=train_dataset,\n",
    "    batch_size=BATCH_SIZE,\n",
    "    shuffle=True,\n",
    "    collate_fn=collate_fn\n",
    ")\n",
    "\n",
    "# val_loader = DataLoader(\n",
    "#     dataset=val_dataset,\n",
    "#     batch_size=BATCH_SIZE,\n",
    "#     collate_fn=collate_fn\n",
    "# )\n",
    "\n",
    "# Initialize model\n",
    "model = PretrainedResnet(\n",
    "    num_classes=len(train_dataset.label2idx),\n",
    "    freeze_backbone=True  # Start with frozen backbone\n",
    ").to(device)\n",
    "\n",
    "# Loss function and optimizer\n",
    "loss_fn = nn.CrossEntropyLoss()\n",
    "optimizer = torch.optim.AdamW(model.parameters(), lr=LEARNING_RATE)\n",
    "\n",
    "# Learning rate scheduler\n",
    "scheduler = torch.optim.lr_scheduler.ReduceLROnPlateau(\n",
    "    optimizer, mode='max', factor=0.1, patience=2\n",
    ")\n",
    "\n",
    "def evaluate(model, dataloader):\n",
    "    model.eval() \n",
    "    outputs = []\n",
    "    trues = []\n",
    "    with torch.no_grad():\n",
    "        for item in dataloader:\n",
    "            image = item[\"image\"].to(device) \n",
    "            label = item[\"label\"].to(device) \n",
    "            output = model(image)   \n",
    "            predictions = torch.argmax(output, dim=-1)  \n",
    "\n",
    "            outputs.extend(predictions.cpu().numpy())\n",
    "            trues.extend(label.cpu().numpy())\n",
    "    \n",
    "    # Print unique values for debugging\n",
    "    print(f\"Unique predictions: {np.unique(outputs)}\")\n",
    "    print(f\"Unique true labels: {np.unique(trues)}\")\n",
    "    \n",
    "    try:\n",
    "        return {\n",
    "            \"recall\": recall_score(trues, outputs, average=\"macro\", zero_division=0),\n",
    "            \"precision\": precision_score(trues, outputs, average=\"macro\", zero_division=0),\n",
    "            \"f1\": f1_score(trues, outputs, average=\"macro\", zero_division=0),\n",
    "        }\n",
    "    except Exception as e:\n",
    "        print(f\"Error in metrics calculation: {e}\")\n",
    "        return {\n",
    "            \"recall\": 0.0,\n",
    "            \"precision\": 0.0,\n",
    "            \"f1\": 0.0\n",
    "        }\n",
    "\n",
    "# Training loop\n",
    "best_f1 = 0\n",
    "for epoch in range(EPOCHS):\n",
    "    print(f\"\\nEpoch {epoch+1}/{EPOCHS}\")\n",
    "    model.train()\n",
    "    total_loss = 0\n",
    "    \n",
    "    # Training\n",
    "    progress_bar = tqdm(train_loader, desc=\"Training\")\n",
    "    for batch in progress_bar:\n",
    "        images = batch[\"image\"].to(device)\n",
    "        labels = batch[\"label\"].to(device)\n",
    "\n",
    "        # Forward pass\n",
    "        optimizer.zero_grad()\n",
    "        logits = model(images)\n",
    "        loss = loss_fn(logits, labels)\n",
    "        \n",
    "        # Backward pass\n",
    "        loss.backward()\n",
    "        optimizer.step()\n",
    "        \n",
    "        total_loss += loss.item()\n",
    "        progress_bar.set_postfix({\"loss\": f\"{loss.item():.4f}\"})\n",
    "\n",
    "    avg_loss = total_loss / len(train_loader)\n",
    "    print(f\"Average training loss: {avg_loss:.4f}\")\n",
    "\n",
    "    # Validation\n",
    "    metrics = evaluate(model, train_loader)\n",
    "    print(\"Validation metrics:\")\n",
    "    for metric, value in metrics.items():\n",
    "        print(f\"{metric}: {value:.4f}\")\n",
    "\n",
    "    # # Learning rate scheduling\n",
    "    # scheduler.step(metrics['f1'])\n",
    "\n",
    "    # # Save best model\n",
    "    # if metrics['f1'] > best_f1:\n",
    "    #     best_f1 = metrics['f1']\n",
    "    #     torch.save(model.state_dict(), 'best_resnet.pth')\n",
    "    #     print(\"Saved new best model!\")\n",
    "\n",
    "    # Unfreeze some layers after a few epochs\n",
    "    if epoch == 5:  # After 5 epochs\n",
    "        print(\"\\nUnfreezing last few layers...\")\n",
    "        model.unfreeze_layers(num_layers=10)  # Unfreeze last 10 layers\n"
   ]
  }
 ],
 "metadata": {
  "kernelspec": {
   "display_name": "Python 3",
   "language": "python",
   "name": "python3"
  },
  "language_info": {
   "codemirror_mode": {
    "name": "ipython",
    "version": 3
   },
   "file_extension": ".py",
   "mimetype": "text/x-python",
   "name": "python",
   "nbconvert_exporter": "python",
   "pygments_lexer": "ipython3",
   "version": "3.11.7"
  }
 },
 "nbformat": 4,
 "nbformat_minor": 5
}
